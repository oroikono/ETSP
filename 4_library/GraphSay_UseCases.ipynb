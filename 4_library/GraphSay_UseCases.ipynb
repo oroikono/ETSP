{
  "cells": [
    {
      "cell_type": "markdown",
      "metadata": {
        "id": "X5XM16t2XGZ_"
      },
      "source": [
        "# Requirements for future GraphSay Library"
      ]
    },
    {
      "cell_type": "code",
      "execution_count": null,
      "metadata": {
        "id": "5szRsSjOUSnu"
      },
      "outputs": [],
      "source": [
        "!pip install transformers\n",
        "!pip install datasets\n",
        "!pip install torch"
      ]
    },
    {
      "cell_type": "markdown",
      "metadata": {
        "id": "JgXQvFtXXSUN"
      },
      "source": [
        "# Proof of Concept for Future GraphSay Library"
      ]
    },
    {
      "cell_type": "code",
      "execution_count": 44,
      "metadata": {
        "id": "JuuDq0qSQOGx"
      },
      "outputs": [],
      "source": [
        "import io\n",
        "import os\n",
        "from matplotlib.figure import Figure\n",
        "from PIL import Image\n",
        "from transformers import AutoProcessor, Pix2StructForConditionalGeneration\n",
        "import torch\n",
        "import plotly.graph_objects as go\n",
        "import matplotlib.pyplot as plt\n",
        "import numpy as np\n",
        "\n",
        "\n",
        "class GraphSay:\n",
        "    def __init__(self):\n",
        "        self.processor = AutoProcessor.from_pretrained(\"oroikon/ft_pix2struct_chart_captioning\")\n",
        "        self.model = Pix2StructForConditionalGeneration.from_pretrained(\"oroikon/ft_pix2struct_chart_captioning\")\n",
        "        self.device = \"cuda\" if torch.cuda.is_available() else \"cpu\"\n",
        "        self.model.to(self.device)\n",
        "\n",
        "    def plot_to_png(self, plot: Figure) -> io.BytesIO:\n",
        "        buf = io.BytesIO()\n",
        "        plot.savefig(buf, format='png')\n",
        "        buf.seek(0)\n",
        "        return buf\n",
        "\n",
        "    def plotly_to_matplotlib(self, plot: go.Figure) -> Figure:\n",
        "        # Extract data from Plotly figure\n",
        "        plot_data = plot.data[0]  # Assuming one trace\n",
        "        x_data = plot_data['x']\n",
        "        y_data = plot_data['y']\n",
        "\n",
        "        # Recreate the plot using Matplotlib\n",
        "        matplotlib_fig, ax = plt.subplots()\n",
        "        ax.scatter(x_data, y_data)\n",
        "        ax.set_title(plot.layout.title.text)\n",
        "        ax.set_xlabel(plot.layout.xaxis.title.text)\n",
        "        ax.set_ylabel(plot.layout.yaxis.title.text)\n",
        "\n",
        "        return matplotlib_fig\n",
        "\n",
        "    def generate_caption(self, plot) -> str:\n",
        "        # Check if the input plot is a plotly graph_objects Figure\n",
        "        if isinstance(plot, go.Figure):\n",
        "            matplotlib_fig = self.plotly_to_matplotlib(plot)\n",
        "            image_stream = self.plot_to_png(matplotlib_fig)\n",
        "        else:  # we assume it's a matplotlib figure\n",
        "            image_stream = self.plot_to_png(plot)\n",
        "\n",
        "        image = Image.open(image_stream)\n",
        "\n",
        "        # Preprocess the image and prepare it for input into your model.\n",
        "        inputs = self.processor(images=image, return_tensors=\"pt\", max_patches=2048).to(self.device)\n",
        "        flattened_patches = inputs.flattened_patches\n",
        "        attention_mask = inputs.attention_mask\n",
        "\n",
        "        # Generate caption\n",
        "        generated_ids = self.model.generate(flattened_patches=flattened_patches, attention_mask=attention_mask, max_length=100)\n",
        "        generated_caption = self.processor.batch_decode(generated_ids, skip_special_tokens=True)[0]\n",
        "\n",
        "        return generated_caption\n"
      ]
    },
    {
      "cell_type": "code",
      "execution_count": null,
      "metadata": {
        "id": "uYC4NSGNUrlm"
      },
      "outputs": [],
      "source": [
        "!pip install -U matplotlib seaborn plotly\n",
        "!pip install fastapi python-multipart uvicorn"
      ]
    },
    {
      "cell_type": "code",
      "execution_count": null,
      "metadata": {
        "id": "NVQ3tU3oUD0j"
      },
      "outputs": [],
      "source": [
        "# Installation (Uncomment the lines below to install the required packages)\n",
        "import matplotlib.pyplot as plt\n",
        "import seaborn as sns\n",
        "import plotly.express as px\n",
        "import numpy as np\n",
        "#from GraphSay import GraphSay  # When the library is done GraphSay.py will be accessible to access the GraphSay class stated above\n",
        "\n",
        "# Generate some random data for plotting\n",
        "np.random.seed(0)\n",
        "x = np.random.rand(100)\n",
        "y = np.random.rand(100)\n",
        "\n",
        "# Create a scatter plot using matplotlib\n",
        "plt.figure()\n",
        "plt.scatter(x, y)\n",
        "plt.title(\"Ocean of Stars in the United States in 2015\")\n",
        "plt.xlabel(\"Stars\")\n",
        "plt.ylabel(\"Brightness\")\n",
        "matplotlib_fig = plt.gcf()  # Getting the current figure to pass to GraphSay\n",
        "\n",
        "# Create a scatter plot using seaborn\n",
        "sns_fig = sns.scatterplot(x=x, y=y).get_figure()\n",
        "plt.title(\"Ocean of Stars in the United States in 2015\")\n",
        "plt.xlabel(\"Stars\")\n",
        "plt.ylabel(\"Brightness\")\n",
        "\n",
        "# Create a scatter plot using plotly\n",
        "plotly_fig = px.scatter(x=x, y=y, title=\"Cosmic Dance in the United States in 2015\", labels={'x':'Stars', 'y':'Brightness'})\n",
        "\n",
        "# Initialize GraphSay with the name of the pre-trained model you want to use\n",
        "graph_say = GraphSay()\n",
        "\n",
        "# Generate captions for the matplotlib plot\n",
        "caption_matplotlib = graph_say.generate_caption(matplotlib_fig)\n",
        "print(\"Matplotlib plot\")\n",
        "matplotlib_fig.show()\n",
        "print(\"Generated caption for matplotlib plot:\", caption_matplotlib)\n",
        "\n",
        "# Generate captions for the seaborn plot\n",
        "caption_seaborn = graph_say.generate_caption(sns_fig)\n",
        "print(\"Seaborn plot\")\n",
        "sns_fig.show()\n",
        "print(\"Generated caption for seaborn plot:\", caption_seaborn)\n",
        "\n",
        "# Generate captions for the plotly plot\n",
        "# Now we can directly pass the plotly figure to the generate_caption method\n",
        "caption_plotly = graph_say.generate_caption(plotly_fig)\n",
        "print(\"Plotly plot\")\n",
        "plotly_fig.show()\n",
        "print(\"Generated caption for plotly plot:\", caption_plotly)\n"
      ]
    }
  ],
  "metadata": {
    "colab": {
      "provenance": []
    },
    "kernelspec": {
      "display_name": "Python 3",
      "name": "python3"
    },
    "language_info": {
      "name": "python"
    }
  },
  "nbformat": 4,
  "nbformat_minor": 0
}
