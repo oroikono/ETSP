{
 "cells": [
  {
   "cell_type": "markdown",
   "metadata": {},
   "source": [
    "# Load generated captions and its metadata"
   ]
  },
  {
   "cell_type": "code",
   "execution_count": 13,
   "metadata": {},
   "outputs": [],
   "source": [
    "import pandas as pd\n",
    "\n",
    "test_caption_gen = pd.read_csv(\"./test_caption_gen.csv\")"
   ]
  },
  {
   "cell_type": "markdown",
   "metadata": {},
   "source": [
    "# Evaluation Metrics\n",
    "- BLEU\n",
    "- ROUGE-1 and ROUGE-L\n",
    "- METEOR"
   ]
  },
  {
   "cell_type": "code",
   "execution_count": 14,
   "metadata": {},
   "outputs": [
    {
     "name": "stderr",
     "output_type": "stream",
     "text": [
      "[nltk_data] Downloading package wordnet to\n",
      "[nltk_data]     /Users/hyeongkyunkim/nltk_data...\n",
      "[nltk_data]   Package wordnet is already up-to-date!\n",
      "[nltk_data] Downloading package punkt to\n",
      "[nltk_data]     /Users/hyeongkyunkim/nltk_data...\n",
      "[nltk_data]   Package punkt is already up-to-date!\n",
      "[nltk_data] Downloading package omw-1.4 to\n",
      "[nltk_data]     /Users/hyeongkyunkim/nltk_data...\n",
      "[nltk_data]   Package omw-1.4 is already up-to-date!\n"
     ]
    }
   ],
   "source": [
    "import evaluate\n",
    "\n",
    "bleu = evaluate.load(\"bleu\")\n",
    "rouge = evaluate.load('rouge')\n",
    "meteor = evaluate.load('meteor')"
   ]
  },
  {
   "cell_type": "code",
   "execution_count": 15,
   "metadata": {},
   "outputs": [
    {
     "name": "stderr",
     "output_type": "stream",
     "text": [
      "100%|██████████| 1199/1199 [00:20<00:00, 58.23it/s]\n"
     ]
    },
    {
     "data": {
      "text/html": [
       "<div>\n",
       "<style scoped>\n",
       "    .dataframe tbody tr th:only-of-type {\n",
       "        vertical-align: middle;\n",
       "    }\n",
       "\n",
       "    .dataframe tbody tr th {\n",
       "        vertical-align: top;\n",
       "    }\n",
       "\n",
       "    .dataframe thead th {\n",
       "        text-align: right;\n",
       "    }\n",
       "</style>\n",
       "<table border=\"1\" class=\"dataframe\">\n",
       "  <thead>\n",
       "    <tr style=\"text-align: right;\">\n",
       "      <th></th>\n",
       "      <th>image_id</th>\n",
       "      <th>gen_caption</th>\n",
       "      <th>ref_caption</th>\n",
       "      <th>chartType</th>\n",
       "      <th>chartElement</th>\n",
       "      <th>dataType</th>\n",
       "      <th>BLEU</th>\n",
       "      <th>ROUGE-1</th>\n",
       "      <th>ROUGE-L</th>\n",
       "      <th>METEOR</th>\n",
       "    </tr>\n",
       "  </thead>\n",
       "  <tbody>\n",
       "    <tr>\n",
       "      <th>0</th>\n",
       "      <td>0</td>\n",
       "      <td>This statistic shows the market shares of inte...</td>\n",
       "      <td>The statistic depicts a breakdown of the inte...</td>\n",
       "      <td>bar</td>\n",
       "      <td>FullCover</td>\n",
       "      <td>SingleColumn</td>\n",
       "      <td>0.229303</td>\n",
       "      <td>0.631579</td>\n",
       "      <td>0.442105</td>\n",
       "      <td>0.362734</td>\n",
       "    </tr>\n",
       "    <tr>\n",
       "      <th>1</th>\n",
       "      <td>1</td>\n",
       "      <td>This statistic shows Kia's operating profit fr...</td>\n",
       "      <td>This statistic shows Kia Motors' operating pr...</td>\n",
       "      <td>line</td>\n",
       "      <td>FullCover</td>\n",
       "      <td>SingleColumn</td>\n",
       "      <td>0.248913</td>\n",
       "      <td>0.676923</td>\n",
       "      <td>0.584615</td>\n",
       "      <td>0.654699</td>\n",
       "    </tr>\n",
       "    <tr>\n",
       "      <th>2</th>\n",
       "      <td>2</td>\n",
       "      <td>This statistic shows the best-paid Indian acto...</td>\n",
       "      <td>In 2019, the Hindi film star Akshay Kumar was...</td>\n",
       "      <td>bar</td>\n",
       "      <td>FullCover</td>\n",
       "      <td>SingleColumn</td>\n",
       "      <td>0.039385</td>\n",
       "      <td>0.314815</td>\n",
       "      <td>0.203704</td>\n",
       "      <td>0.119522</td>\n",
       "    </tr>\n",
       "    <tr>\n",
       "      <th>3</th>\n",
       "      <td>3</td>\n",
       "      <td>This statistic shows the annual exchange rate ...</td>\n",
       "      <td>This statistic displays the annual exchange r...</td>\n",
       "      <td>line</td>\n",
       "      <td>FullCover</td>\n",
       "      <td>SingleColumn</td>\n",
       "      <td>0.003807</td>\n",
       "      <td>0.270916</td>\n",
       "      <td>0.199203</td>\n",
       "      <td>0.120063</td>\n",
       "    </tr>\n",
       "    <tr>\n",
       "      <th>4</th>\n",
       "      <td>4</td>\n",
       "      <td>This statistic shows the most common baby name...</td>\n",
       "      <td>What are typical names given to baby boys in ...</td>\n",
       "      <td>bar</td>\n",
       "      <td>FullCover</td>\n",
       "      <td>SingleColumn</td>\n",
       "      <td>0.070199</td>\n",
       "      <td>0.421053</td>\n",
       "      <td>0.252632</td>\n",
       "      <td>0.252264</td>\n",
       "    </tr>\n",
       "  </tbody>\n",
       "</table>\n",
       "</div>"
      ],
      "text/plain": [
       "   image_id                                        gen_caption  \\\n",
       "0         0  This statistic shows the market shares of inte...   \n",
       "1         1  This statistic shows Kia's operating profit fr...   \n",
       "2         2  This statistic shows the best-paid Indian acto...   \n",
       "3         3  This statistic shows the annual exchange rate ...   \n",
       "4         4  This statistic shows the most common baby name...   \n",
       "\n",
       "                                         ref_caption chartType chartElement  \\\n",
       "0   The statistic depicts a breakdown of the inte...       bar    FullCover   \n",
       "1   This statistic shows Kia Motors' operating pr...      line    FullCover   \n",
       "2   In 2019, the Hindi film star Akshay Kumar was...       bar    FullCover   \n",
       "3   This statistic displays the annual exchange r...      line    FullCover   \n",
       "4   What are typical names given to baby boys in ...       bar    FullCover   \n",
       "\n",
       "       dataType      BLEU   ROUGE-1   ROUGE-L    METEOR  \n",
       "0  SingleColumn  0.229303  0.631579  0.442105  0.362734  \n",
       "1  SingleColumn  0.248913  0.676923  0.584615  0.654699  \n",
       "2  SingleColumn  0.039385  0.314815  0.203704  0.119522  \n",
       "3  SingleColumn  0.003807  0.270916  0.199203  0.120063  \n",
       "4  SingleColumn  0.070199  0.421053  0.252632  0.252264  "
      ]
     },
     "execution_count": 15,
     "metadata": {},
     "output_type": "execute_result"
    }
   ],
   "source": [
    "from tqdm import tqdm\n",
    "from nltk.tokenize import word_tokenize\n",
    "\n",
    "bleu_score_lst = []\n",
    "rouge1_score_lst = []\n",
    "rougeL_score_lst = []\n",
    "met_score_lst = []\n",
    "\n",
    "for index, item in tqdm(test_caption_gen.iterrows(), total=test_caption_gen.shape[0]):\n",
    "    \n",
    "    predictions = [ item['gen_caption'] ]\n",
    "    references = [ item['ref_caption'] ]\n",
    "\n",
    "    # Calculate BLEU Score\n",
    "    results = bleu.compute(predictions=predictions, references=references, smooth=True, tokenizer=word_tokenize)\n",
    "    # print(results)\n",
    "    bleu_score_lst.append(results['bleu'])\n",
    "\n",
    "    # Calculate ROUGE-1 and ROUGE-L Score\n",
    "    results = rouge.compute(predictions=predictions,\n",
    "                            references=references,\n",
    "                            rouge_types=['rouge1','rougeL'],\n",
    "                            use_aggregator=False)\n",
    "    rouge1_score_lst.append(results['rouge1'][0])\n",
    "    rougeL_score_lst.append(results['rougeL'][0])\n",
    "\n",
    "    # Calculate METEOR Score\n",
    "    results = meteor.compute(predictions=[item['gen_caption']], references=[item['ref_caption']])\n",
    "    met_score_lst.append(results['meteor'])\n",
    "\n",
    "test_caption_gen[\"BLEU\"] = bleu_score_lst\n",
    "test_caption_gen[\"ROUGE-1\"] = rouge1_score_lst\n",
    "test_caption_gen[\"ROUGE-L\"] = rougeL_score_lst\n",
    "test_caption_gen[\"METEOR\"] = met_score_lst\n",
    "\n",
    "test_caption_gen.head()"
   ]
  },
  {
   "cell_type": "markdown",
   "metadata": {},
   "source": [
    "## Overall Perforamnce\n",
    "\n",
    "Evaluate on the dataset which has\n",
    "\n",
    "either __FullCover (SingleColumn)__ or __OnePlot (MultiColumn)__ \n",
    "\n",
    "as a type of 'chartElement'"
   ]
  },
  {
   "cell_type": "code",
   "execution_count": 4,
   "metadata": {},
   "outputs": [],
   "source": [
    "chartElement = [\"FullCover\", \"OnePlot\"]\n",
    "overall_perf_data = test_caption_gen.loc[test_caption_gen[\"chartElement\"].isin(chartElement)][[\"image_id\", \"dataType\", \"BLEU\", \"ROUGE-1\", \"ROUGE-L\", \"METEOR\"]]\n",
    "\n",
    "overall_single_perf_data = overall_perf_data.loc[overall_perf_data[\"dataType\"]==\"SingleColumn\"]\n",
    "overall_multi_perf_data = overall_perf_data.loc[overall_perf_data[\"dataType\"]==\"MultiColumn\"]"
   ]
  },
  {
   "cell_type": "code",
   "execution_count": 5,
   "metadata": {},
   "outputs": [
    {
     "name": "stdout",
     "output_type": "stream",
     "text": [
      "Overall Performance of Single Column Data\n",
      "          BLEU   ROUGE-1   ROUGE-L    METEOR\n",
      "mean  0.267242  0.536979  0.451379  0.441117\n",
      "min   0.001760  0.192893  0.113636  0.082645\n",
      "50%   0.229637  0.541176  0.441518  0.409099\n",
      "max   0.935370  0.945946  0.945946  0.974934\n",
      "\n",
      "Overall Performance of Multi Column Data\n",
      "          BLEU   ROUGE-1   ROUGE-L    METEOR\n",
      "mean  0.242866  0.515102  0.428061  0.418457\n",
      "min   0.000066  0.156863  0.098039  0.074998\n",
      "50%   0.188290  0.500000  0.405405  0.382908\n",
      "max   0.894470  0.945946  0.945946  0.959059\n",
      "\n",
      "Overall Performance\n",
      "          BLEU   ROUGE-1   ROUGE-L    METEOR\n",
      "mean  0.255085  0.526068  0.439749  0.429816\n",
      "min   0.000066  0.156863  0.098039  0.074998\n",
      "50%   0.202802  0.518519  0.424242  0.394318\n",
      "max   0.935370  0.945946  0.945946  0.974934\n",
      "\n"
     ]
    }
   ],
   "source": [
    "print(\"Overall Performance of Single Column Data\")\n",
    "print(f\"{overall_single_perf_data.describe().loc[['mean', 'min', '50%', 'max']][['BLEU', 'ROUGE-1', 'ROUGE-L', 'METEOR']]}\\n\")\n",
    "print(\"Overall Performance of Multi Column Data\")\n",
    "print(f\"{overall_multi_perf_data.describe().loc[['mean', 'min', '50%', 'max']][['BLEU', 'ROUGE-1', 'ROUGE-L', 'METEOR']]}\\n\")\n",
    "print(\"Overall Performance\")\n",
    "print(f\"{overall_perf_data.describe().loc[['mean', 'min', '50%', 'max']][['BLEU', 'ROUGE-1', 'ROUGE-L', 'METEOR']]}\\n\")"
   ]
  },
  {
   "cell_type": "code",
   "execution_count": 6,
   "metadata": {},
   "outputs": [
    {
     "name": "stdout",
     "output_type": "stream",
     "text": [
      "image_id                                                      162\n",
      "gen_caption     This statistic shows gross domestic product (G...\n",
      "ref_caption      The statistic shows gross domestic product (G...\n",
      "chartType                                                    line\n",
      "chartElement                                            FullCover\n",
      "dataType                                             SingleColumn\n",
      "BLEU                                                     0.819075\n",
      "ROUGE-1                                                  0.915033\n",
      "ROUGE-L                                                  0.888889\n",
      "METEOR                                                     0.8885\n",
      "Name: 162, dtype: object\n",
      "\n",
      "Generated caption\n",
      "This statistic shows gross domestic product (GDP) per capita in Bulgaria from 1984 to 2019, with projections up until 2024. GDP is the total value of all goods and services produced in a country in a year. It is considered to be a very important indicator of the economic strength of a country and a positive change is an indicator of economic growth. In 2019, Bulgaria's GDP per capita amounted to around \n",
      "\n",
      "Reference caption\n",
      " The statistic shows gross domestic product (GDP) per capita in Bulgaria from 1984 to 2018, with projections up until 2024. GDP is the total value of all goods and services produced in a country in a year. It is considered to be a very important indicator of the economic strength of a country and a positive change is an indicator of economic growth. In 2018, the GDP per capita in Bulgaria amounted to around 9,313.83 U.S. dollars. \n"
     ]
    }
   ],
   "source": [
    "_ = overall_single_perf_data[[\"BLEU\",\"ROUGE-1\",\"ROUGE-L\",\"METEOR\"]].mean(axis=1).sort_values(ascending=False)\n",
    "best = test_caption_gen.iloc[_.index[4]]\n",
    "print(best)\n",
    "print()\n",
    "print(f\"Generated caption\\n{best['gen_caption']}\\n\\nReference caption\\n{best['ref_caption']}\")"
   ]
  },
  {
   "cell_type": "code",
   "execution_count": 7,
   "metadata": {},
   "outputs": [
    {
     "name": "stdout",
     "output_type": "stream",
     "text": [
      "image_id                                                      836\n",
      "gen_caption     This statistic shows the total population of S...\n",
      "ref_caption      This statistic shows the total population of ...\n",
      "chartType                                                    line\n",
      "chartElement                                              OnePlot\n",
      "dataType                                              MultiColumn\n",
      "BLEU                                                     0.802447\n",
      "ROUGE-1                                                  0.918919\n",
      "ROUGE-L                                                  0.918919\n",
      "METEOR                                                   0.945694\n",
      "Name: 835, dtype: object\n",
      "\n",
      "Generated caption\n",
      "This statistic shows the total population of Somalia from 2009 to 2019, by gender. In 2019, Somalia's female population amounted to approximately 7.56 million, while the male population amounted to approximately 6.56 million inhabitants. \n",
      "\n",
      "Reference caption\n",
      " This statistic shows the total population of Somalia from 2009 to 2019 by gender. In 2019, Somalia's female population amounted to approximately 7.74 million, while the male population amounted to approximately 7.7 million inhabitants. \n"
     ]
    }
   ],
   "source": [
    "_ = overall_multi_perf_data[[\"BLEU\",\"ROUGE-1\",\"ROUGE-L\",\"METEOR\"]].mean(axis=1).sort_values(ascending=False)\n",
    "best = test_caption_gen.iloc[_.index[4]]\n",
    "print(best)\n",
    "print()\n",
    "print(f\"Generated caption\\n{best['gen_caption']}\\n\\nReference caption\\n{best['ref_caption']}\")"
   ]
  },
  {
   "cell_type": "markdown",
   "metadata": {},
   "source": [
    "## Effect of graph elements\n",
    "\n",
    "Evaluate the effect of graph elements on graph captioning quality\n",
    "\n",
    ".\n",
    "\n",
    "- Single Column Element Variables\n",
    "    - Title\n",
    "    - Axis Label\n",
    "    - Grid\n",
    "\n",
    ".\n",
    "\n",
    "- Multi Column Element Variables\n",
    "    - One vs Subplots"
   ]
  },
  {
   "cell_type": "code",
   "execution_count": 8,
   "metadata": {},
   "outputs": [],
   "source": [
    "single_fullcover_data = test_caption_gen.loc[test_caption_gen[\"chartElement\"] == \"FullCover\"][[\"BLEU\", \"ROUGE-1\", \"ROUGE-L\", \"METEOR\"]]\n",
    "single_notitle_data = test_caption_gen.loc[test_caption_gen[\"chartElement\"] == \"NoTitle\"][[\"BLEU\", \"ROUGE-1\", \"ROUGE-L\", \"METEOR\"]]\n",
    "single_noaxislabel_data = test_caption_gen.loc[test_caption_gen[\"chartElement\"] == \"NoAxisLabel\"][[\"BLEU\", \"ROUGE-1\", \"ROUGE-L\", \"METEOR\"]]\n",
    "single_nogrid_data = test_caption_gen.loc[test_caption_gen[\"chartElement\"] == \"NoGrid\"][[\"BLEU\", \"ROUGE-1\", \"ROUGE-L\", \"METEOR\"]]"
   ]
  },
  {
   "cell_type": "code",
   "execution_count": 9,
   "metadata": {},
   "outputs": [
    {
     "name": "stdout",
     "output_type": "stream",
     "text": [
      "Single Column : Full Cover\n",
      "          BLEU   ROUGE-1   ROUGE-L    METEOR\n",
      "mean  0.267242  0.536979  0.451379  0.441117\n",
      "min   0.001760  0.192893  0.113636  0.082645\n",
      "50%   0.229637  0.541176  0.441518  0.409099\n",
      "max   0.935370  0.945946  0.945946  0.974934\n",
      "\n",
      "Single Column : No Title\n",
      "          BLEU   ROUGE-1   ROUGE-L    METEOR\n",
      "mean  0.083562  0.293311  0.240739  0.227331\n",
      "min   0.000873  0.077922  0.057143  0.046593\n",
      "50%   0.067114  0.288908  0.230769  0.214353\n",
      "max   0.567802  0.711864  0.628571  0.672950\n",
      "\n",
      "Single Column : No Axis Label\n",
      "          BLEU   ROUGE-1   ROUGE-L    METEOR\n",
      "mean  0.263523  0.535754  0.451878  0.442444\n",
      "min   0.001760  0.192893  0.113636  0.085456\n",
      "50%   0.210206  0.535047  0.443275  0.421257\n",
      "max   0.935370  0.945946  0.945946  0.974934\n",
      "\n",
      "Single Column : No Grid\n",
      "          BLEU   ROUGE-1   ROUGE-L    METEOR\n",
      "mean  0.268740  0.538726  0.453640  0.443518\n",
      "min   0.001760  0.192893  0.113636  0.085456\n",
      "50%   0.233717  0.542193  0.446934  0.421777\n",
      "max   0.935370  0.945946  0.945946  0.974934\n",
      "\n"
     ]
    }
   ],
   "source": [
    "print(\"Single Column : Full Cover\")\n",
    "print(f\"{single_fullcover_data.describe().loc[['mean', 'min', '50%', 'max']]}\\n\")\n",
    "print(\"Single Column : No Title\")\n",
    "print(f\"{single_notitle_data.describe().loc[['mean', 'min', '50%', 'max']]}\\n\")\n",
    "print(\"Single Column : No Axis Label\")\n",
    "print(f\"{single_noaxislabel_data.describe().loc[['mean', 'min', '50%', 'max']]}\\n\")\n",
    "print(\"Single Column : No Grid\")\n",
    "print(f\"{single_nogrid_data.describe().loc[['mean', 'min', '50%', 'max']]}\\n\")"
   ]
  },
  {
   "cell_type": "code",
   "execution_count": 10,
   "metadata": {},
   "outputs": [],
   "source": [
    "multi_oneplot_data = test_caption_gen.loc[test_caption_gen[\"chartElement\"] == \"OnePlot\"][[\"BLEU\", \"ROUGE-1\", \"ROUGE-L\", \"METEOR\"]]\n",
    "multi_subplots_data = test_caption_gen.loc[test_caption_gen[\"chartElement\"] == \"SubPlot\"][[\"BLEU\", \"ROUGE-1\", \"ROUGE-L\", \"METEOR\"]]"
   ]
  },
  {
   "cell_type": "code",
   "execution_count": 11,
   "metadata": {},
   "outputs": [
    {
     "name": "stdout",
     "output_type": "stream",
     "text": [
      "Multi Column : One plot\n",
      "          BLEU   ROUGE-1   ROUGE-L    METEOR\n",
      "mean  0.242866  0.515102  0.428061  0.418457\n",
      "min   0.000066  0.156863  0.098039  0.074998\n",
      "50%   0.188290  0.500000  0.405405  0.382908\n",
      "max   0.894470  0.945946  0.945946  0.959059\n",
      "\n",
      "Multi Column : Sub plots\n",
      "          BLEU   ROUGE-1   ROUGE-L    METEOR\n",
      "mean  0.234401  0.514414  0.428158  0.415818\n",
      "min   0.000061  0.140704  0.100503  0.074415\n",
      "50%   0.186255  0.518934  0.416940  0.390969\n",
      "max   0.894470  0.934783  0.934783  0.959059\n",
      "\n"
     ]
    }
   ],
   "source": [
    "print(\"Multi Column : One plot\")\n",
    "print(f\"{multi_oneplot_data.describe().loc[['mean', 'min', '50%', 'max']]}\\n\")\n",
    "print(\"Multi Column : Sub plots\")\n",
    "print(f\"{multi_subplots_data.describe().loc[['mean', 'min', '50%', 'max']]}\\n\")"
   ]
  },
  {
   "cell_type": "markdown",
   "metadata": {},
   "source": []
  }
 ],
 "metadata": {
  "kernelspec": {
   "display_name": "Python 3",
   "language": "python",
   "name": "python3"
  },
  "language_info": {
   "codemirror_mode": {
    "name": "ipython",
    "version": 3
   },
   "file_extension": ".py",
   "mimetype": "text/x-python",
   "name": "python",
   "nbconvert_exporter": "python",
   "pygments_lexer": "ipython3",
   "version": "3.8.16"
  }
 },
 "nbformat": 4,
 "nbformat_minor": 2
}
